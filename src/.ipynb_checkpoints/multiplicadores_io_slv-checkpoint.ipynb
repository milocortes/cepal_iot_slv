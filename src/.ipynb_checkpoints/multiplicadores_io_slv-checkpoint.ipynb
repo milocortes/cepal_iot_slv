{
 "cells": [
  {
   "cell_type": "markdown",
   "id": "2f6b6f3f",
   "metadata": {},
   "source": [
    "## Multiplicadores de empleo"
   ]
  },
  {
   "cell_type": "markdown",
   "id": "c0f62db1",
   "metadata": {},
   "source": [
    "Para calcular la matriz de coeficientes técnicos, tenemos que dividir el insumo de $i$ consumido por cada actividad $j$ entre el total producido de la actividad $j$.\n",
    "\n",
    "Usando notación de álgebra lineal, tenemos :\n",
    "\n",
    "Siendo $Z$ la matriz de flujo entre sectores y $X$ es el vector de producto total.\n",
    "\n",
    "La matriz de coeficientes técnicos se calcularía como:\n",
    "\n",
    "\n",
    "$$\n",
    "A= Z \\cdot (X \\cdot I)^{-1}\n",
    "$$"
   ]
  },
  {
   "cell_type": "code",
   "execution_count": 1,
   "id": "8e5e4e8b-1671-4ddd-b2b7-e9aa425fde81",
   "metadata": {},
   "outputs": [],
   "source": [
    "import pandas as pd \n",
    "import numpy as np\n",
    "import os\n",
    "\n",
    "# Definimos función construye rutas\n",
    "build_path = lambda rutas : os.path.abspath(os.path.join(*rutas))\n",
    "\n",
    "# Definimos rutas de los directorios\n",
    "PATH_FILE = os.getcwd()\n",
    "DATA_PATH = build_path([PATH_FILE, \"..\", \"datos\"])\n",
    "OUTPUT_PATH = build_path([PATH_FILE, \"..\", \"output\"])\n",
    "\n",
    "# Definimos rutas de los archivos\n",
    "FP_CEPAL_IO = build_path([DATA_PATH, \"CEPAL_LAC_2014_40s.xlsx\"])\n",
    "FP_EMPLEO_SLV = build_path([OUTPUT_PATH, \"cepal_cat_empleo_slv_2014.csv\"])"
   ]
  },
  {
   "cell_type": "code",
   "execution_count": 2,
   "id": "ec850f50-a6b5-4156-ab00-135885f69dd4",
   "metadata": {},
   "outputs": [],
   "source": [
    "# Cargamos los datos\n",
    "cepal_io = pd.read_excel(FP_CEPAL_IO)\n",
    "empleo_slv = pd.read_csv(FP_EMPLEO_SLV)"
   ]
  },
  {
   "cell_type": "code",
   "execution_count": 30,
   "id": "727ec940-a511-413f-8e59-effc7d583ad7",
   "metadata": {},
   "outputs": [
    {
     "data": {
      "text/plain": [
       "array(['ARG', 'BRA', 'BOL', 'CHL', 'COL', 'ECU', 'PRY', 'PER', 'URY',\n",
       "       'VEN', 'MEX', 'CRI', 'GTM', 'HND', 'SLV', 'NIC', 'DOM', 'PAN',\n",
       "       'Caricom', 'USA', 'CAN', 'EU', 'CHN', 'AUS', 'BRN', 'KHM', 'IDN',\n",
       "       'JPN', 'MYS', 'MNG', 'MMR', 'NZL', 'PHL', 'KOR', 'SGP', 'THA',\n",
       "       'VNM', 'HKG', 'LAO', 'MAC', 'IND', 'RUS', 'BGD', 'BTN', 'FJI',\n",
       "       'KAZ', 'KGZ', 'MDV', 'NPL', 'TUR', 'PAK', 'LKA', 'CUB', 'SUR',\n",
       "       'ROW', nan], dtype=object)"
      ]
     },
     "execution_count": 30,
     "metadata": {},
     "output_type": "execute_result"
    }
   ],
   "source": [
    "cepal_io.Country_iso3.unique()"
   ]
  },
  {
   "cell_type": "code",
   "execution_count": 8,
   "id": "0a49fbda-ca91-462c-b363-ac8a668687e3",
   "metadata": {},
   "outputs": [
    {
     "data": {
      "text/html": [
       "<div>\n",
       "<style scoped>\n",
       "    .dataframe tbody tr th:only-of-type {\n",
       "        vertical-align: middle;\n",
       "    }\n",
       "\n",
       "    .dataframe tbody tr th {\n",
       "        vertical-align: top;\n",
       "    }\n",
       "\n",
       "    .dataframe thead th {\n",
       "        text-align: right;\n",
       "    }\n",
       "</style>\n",
       "<table border=\"1\" class=\"dataframe\">\n",
       "  <thead>\n",
       "    <tr style=\"text-align: right;\">\n",
       "      <th></th>\n",
       "      <th>Nosector</th>\n",
       "      <th>Sector</th>\n",
       "      <th>Output</th>\n",
       "    </tr>\n",
       "  </thead>\n",
       "  <tbody>\n",
       "    <tr>\n",
       "      <th>0</th>\n",
       "      <td>s01</td>\n",
       "      <td>Agriculture and forestry</td>\n",
       "      <td>2192.466115</td>\n",
       "    </tr>\n",
       "    <tr>\n",
       "      <th>1</th>\n",
       "      <td>s02</td>\n",
       "      <td>Hunting and fishing</td>\n",
       "      <td>103.953866</td>\n",
       "    </tr>\n",
       "    <tr>\n",
       "      <th>2</th>\n",
       "      <td>s03</td>\n",
       "      <td>Mining and quarrying (energy)</td>\n",
       "      <td>0.000000</td>\n",
       "    </tr>\n",
       "    <tr>\n",
       "      <th>3</th>\n",
       "      <td>s04</td>\n",
       "      <td>Mining and quarrying (non-energy)</td>\n",
       "      <td>88.631199</td>\n",
       "    </tr>\n",
       "    <tr>\n",
       "      <th>4</th>\n",
       "      <td>s05</td>\n",
       "      <td>Meat and meat products; dairy products</td>\n",
       "      <td>1501.257695</td>\n",
       "    </tr>\n",
       "    <tr>\n",
       "      <th>5</th>\n",
       "      <td>s06</td>\n",
       "      <td>Wheat products and pasta</td>\n",
       "      <td>1365.590293</td>\n",
       "    </tr>\n",
       "    <tr>\n",
       "      <th>6</th>\n",
       "      <td>s07</td>\n",
       "      <td>Sugar and confectionery</td>\n",
       "      <td>573.779518</td>\n",
       "    </tr>\n",
       "    <tr>\n",
       "      <th>7</th>\n",
       "      <td>s08</td>\n",
       "      <td>Other processed food</td>\n",
       "      <td>713.640923</td>\n",
       "    </tr>\n",
       "    <tr>\n",
       "      <th>8</th>\n",
       "      <td>s09</td>\n",
       "      <td>Beverage</td>\n",
       "      <td>553.728273</td>\n",
       "    </tr>\n",
       "    <tr>\n",
       "      <th>9</th>\n",
       "      <td>s10</td>\n",
       "      <td>Tobacco</td>\n",
       "      <td>0.007964</td>\n",
       "    </tr>\n",
       "    <tr>\n",
       "      <th>10</th>\n",
       "      <td>s11</td>\n",
       "      <td>Textiles</td>\n",
       "      <td>1414.745692</td>\n",
       "    </tr>\n",
       "    <tr>\n",
       "      <th>11</th>\n",
       "      <td>s12</td>\n",
       "      <td>Apparel</td>\n",
       "      <td>1225.778037</td>\n",
       "    </tr>\n",
       "    <tr>\n",
       "      <th>12</th>\n",
       "      <td>s13</td>\n",
       "      <td>Footwear</td>\n",
       "      <td>201.280340</td>\n",
       "    </tr>\n",
       "    <tr>\n",
       "      <th>13</th>\n",
       "      <td>s14</td>\n",
       "      <td>Wood and products of wood and cork</td>\n",
       "      <td>87.699961</td>\n",
       "    </tr>\n",
       "    <tr>\n",
       "      <th>14</th>\n",
       "      <td>s15</td>\n",
       "      <td>Pulp, paper, printing and publishing</td>\n",
       "      <td>714.647894</td>\n",
       "    </tr>\n",
       "    <tr>\n",
       "      <th>15</th>\n",
       "      <td>s16</td>\n",
       "      <td>Coke, refined petroleum and nuclear fuel</td>\n",
       "      <td>66.472877</td>\n",
       "    </tr>\n",
       "    <tr>\n",
       "      <th>16</th>\n",
       "      <td>s17</td>\n",
       "      <td>Basic chemical products</td>\n",
       "      <td>112.914237</td>\n",
       "    </tr>\n",
       "    <tr>\n",
       "      <th>17</th>\n",
       "      <td>s18</td>\n",
       "      <td>Other chemical products (excluding pharmaceuti...</td>\n",
       "      <td>257.164418</td>\n",
       "    </tr>\n",
       "    <tr>\n",
       "      <th>18</th>\n",
       "      <td>s19</td>\n",
       "      <td>Pharmaceuticals</td>\n",
       "      <td>209.881079</td>\n",
       "    </tr>\n",
       "    <tr>\n",
       "      <th>19</th>\n",
       "      <td>s20</td>\n",
       "      <td>Rubber and plastics products</td>\n",
       "      <td>589.412203</td>\n",
       "    </tr>\n",
       "    <tr>\n",
       "      <th>20</th>\n",
       "      <td>s21</td>\n",
       "      <td>Other non-metallic mineral products</td>\n",
       "      <td>336.116558</td>\n",
       "    </tr>\n",
       "    <tr>\n",
       "      <th>21</th>\n",
       "      <td>s22</td>\n",
       "      <td>Iron and steel</td>\n",
       "      <td>198.539979</td>\n",
       "    </tr>\n",
       "    <tr>\n",
       "      <th>22</th>\n",
       "      <td>s23</td>\n",
       "      <td>Non-ferrous metals</td>\n",
       "      <td>31.640299</td>\n",
       "    </tr>\n",
       "    <tr>\n",
       "      <th>23</th>\n",
       "      <td>s24</td>\n",
       "      <td>Fabricated metal products, except machinery an...</td>\n",
       "      <td>434.497902</td>\n",
       "    </tr>\n",
       "    <tr>\n",
       "      <th>24</th>\n",
       "      <td>s25</td>\n",
       "      <td>Machinery and equipment nec (excluding electri...</td>\n",
       "      <td>67.070468</td>\n",
       "    </tr>\n",
       "    <tr>\n",
       "      <th>25</th>\n",
       "      <td>s26</td>\n",
       "      <td>Office, accounting and computing machinery</td>\n",
       "      <td>0.000000</td>\n",
       "    </tr>\n",
       "    <tr>\n",
       "      <th>26</th>\n",
       "      <td>s27</td>\n",
       "      <td>Electrical machinery and apparatus, nec</td>\n",
       "      <td>42.363826</td>\n",
       "    </tr>\n",
       "    <tr>\n",
       "      <th>27</th>\n",
       "      <td>s28</td>\n",
       "      <td>Radio, television and communication equipment nec</td>\n",
       "      <td>0.000000</td>\n",
       "    </tr>\n",
       "    <tr>\n",
       "      <th>28</th>\n",
       "      <td>s29</td>\n",
       "      <td>Medical, precision and optical instruments</td>\n",
       "      <td>14.872923</td>\n",
       "    </tr>\n",
       "    <tr>\n",
       "      <th>29</th>\n",
       "      <td>s30</td>\n",
       "      <td>Motor vehicles, trailers and semi-trailers</td>\n",
       "      <td>5.896217</td>\n",
       "    </tr>\n",
       "    <tr>\n",
       "      <th>30</th>\n",
       "      <td>s31</td>\n",
       "      <td>Aircraft and spacecraft</td>\n",
       "      <td>1.762609</td>\n",
       "    </tr>\n",
       "    <tr>\n",
       "      <th>31</th>\n",
       "      <td>s32</td>\n",
       "      <td>Other transport equipment</td>\n",
       "      <td>9.809530</td>\n",
       "    </tr>\n",
       "    <tr>\n",
       "      <th>32</th>\n",
       "      <td>s33</td>\n",
       "      <td>Manufacturing nec; recycling (include furniture)</td>\n",
       "      <td>478.705477</td>\n",
       "    </tr>\n",
       "    <tr>\n",
       "      <th>33</th>\n",
       "      <td>s34</td>\n",
       "      <td>Electricity and gas</td>\n",
       "      <td>1386.182203</td>\n",
       "    </tr>\n",
       "    <tr>\n",
       "      <th>34</th>\n",
       "      <td>s35</td>\n",
       "      <td>Construction</td>\n",
       "      <td>2341.335536</td>\n",
       "    </tr>\n",
       "    <tr>\n",
       "      <th>35</th>\n",
       "      <td>s36</td>\n",
       "      <td>Transportation</td>\n",
       "      <td>2251.021126</td>\n",
       "    </tr>\n",
       "    <tr>\n",
       "      <th>36</th>\n",
       "      <td>s37</td>\n",
       "      <td>Post and telecommunication</td>\n",
       "      <td>1270.781638</td>\n",
       "    </tr>\n",
       "    <tr>\n",
       "      <th>37</th>\n",
       "      <td>s38</td>\n",
       "      <td>Finance and insurance</td>\n",
       "      <td>2073.600806</td>\n",
       "    </tr>\n",
       "    <tr>\n",
       "      <th>38</th>\n",
       "      <td>s39</td>\n",
       "      <td>Business services of all kinds</td>\n",
       "      <td>3892.595715</td>\n",
       "    </tr>\n",
       "    <tr>\n",
       "      <th>39</th>\n",
       "      <td>s40</td>\n",
       "      <td>Other services</td>\n",
       "      <td>11693.090459</td>\n",
       "    </tr>\n",
       "  </tbody>\n",
       "</table>\n",
       "</div>"
      ],
      "text/plain": [
       "   Nosector                                             Sector        Output\n",
       "0       s01                           Agriculture and forestry   2192.466115\n",
       "1       s02                                Hunting and fishing    103.953866\n",
       "2       s03                      Mining and quarrying (energy)      0.000000\n",
       "3       s04                  Mining and quarrying (non-energy)     88.631199\n",
       "4       s05             Meat and meat products; dairy products   1501.257695\n",
       "5       s06                           Wheat products and pasta   1365.590293\n",
       "6       s07                            Sugar and confectionery    573.779518\n",
       "7       s08                               Other processed food    713.640923\n",
       "8       s09                                           Beverage    553.728273\n",
       "9       s10                                            Tobacco      0.007964\n",
       "10      s11                                           Textiles   1414.745692\n",
       "11      s12                                            Apparel   1225.778037\n",
       "12      s13                                           Footwear    201.280340\n",
       "13      s14                 Wood and products of wood and cork     87.699961\n",
       "14      s15               Pulp, paper, printing and publishing    714.647894\n",
       "15      s16           Coke, refined petroleum and nuclear fuel     66.472877\n",
       "16      s17                            Basic chemical products    112.914237\n",
       "17      s18  Other chemical products (excluding pharmaceuti...    257.164418\n",
       "18      s19                                    Pharmaceuticals    209.881079\n",
       "19      s20                       Rubber and plastics products    589.412203\n",
       "20      s21                Other non-metallic mineral products    336.116558\n",
       "21      s22                                     Iron and steel    198.539979\n",
       "22      s23                                 Non-ferrous metals     31.640299\n",
       "23      s24  Fabricated metal products, except machinery an...    434.497902\n",
       "24      s25  Machinery and equipment nec (excluding electri...     67.070468\n",
       "25      s26         Office, accounting and computing machinery      0.000000\n",
       "26      s27            Electrical machinery and apparatus, nec     42.363826\n",
       "27      s28  Radio, television and communication equipment nec      0.000000\n",
       "28      s29         Medical, precision and optical instruments     14.872923\n",
       "29      s30        Motor vehicles, trailers and semi-trailers       5.896217\n",
       "30      s31                            Aircraft and spacecraft      1.762609\n",
       "31      s32                          Other transport equipment      9.809530\n",
       "32      s33   Manufacturing nec; recycling (include furniture)    478.705477\n",
       "33      s34                                Electricity and gas   1386.182203\n",
       "34      s35                                       Construction   2341.335536\n",
       "35      s36                                     Transportation   2251.021126\n",
       "36      s37                         Post and telecommunication   1270.781638\n",
       "37      s38                              Finance and insurance   2073.600806\n",
       "38      s39                     Business services of all kinds   3892.595715\n",
       "39      s40                                     Other services  11693.090459"
      ]
     },
     "execution_count": 8,
     "metadata": {},
     "output_type": "execute_result"
    }
   ],
   "source": [
    "# Hacemos subset a SLV\n",
    "slv_io = cepal_io.query(\"Country_iso3 =='SLV'\").reset_index(drop=True)\n",
    "slv_io[[\"Nosector\", \"Sector\", \"Output\"]]"
   ]
  },
  {
   "cell_type": "code",
   "execution_count": null,
   "id": "ebac5b01-007c-4db8-ab79-c4fe4357d5ed",
   "metadata": {},
   "outputs": [],
   "source": []
  },
  {
   "cell_type": "code",
   "execution_count": 13,
   "id": "8bf4dbab-a14f-4c0a-9205-b4ddd64afbae",
   "metadata": {},
   "outputs": [
    {
     "data": {
      "text/plain": [
       "array([[1.44714843e+02, 5.32469480e-03, 0.00000000e+00, ...,\n",
       "        2.35897392e-01, 9.36728878e-01, 7.82085208e+01],\n",
       "       [1.06256808e+00, 1.16512968e-02, 0.00000000e+00, ...,\n",
       "        0.00000000e+00, 0.00000000e+00, 1.08924442e+01],\n",
       "       [0.00000000e+00, 0.00000000e+00, 0.00000000e+00, ...,\n",
       "        0.00000000e+00, 0.00000000e+00, 0.00000000e+00],\n",
       "       ...,\n",
       "       [4.66536873e+01, 7.15642421e-01, 0.00000000e+00, ...,\n",
       "        2.35297165e+02, 2.91007280e+02, 2.44262451e+02],\n",
       "       [7.41626059e+00, 1.29247648e+00, 0.00000000e+00, ...,\n",
       "        1.34123544e+02, 1.91336662e+02, 8.72620930e+02],\n",
       "       [9.14594910e+01, 1.89688387e+00, 0.00000000e+00, ...,\n",
       "        6.49490547e+01, 7.08764089e+01, 6.59786419e+02]])"
      ]
     },
     "execution_count": 13,
     "metadata": {},
     "output_type": "execute_result"
    }
   ],
   "source": [
    "## Obtenemos la matriz de flujos de la demanda interna doméstica (Z)\n",
    "Z = slv_io[[i for i in slv_io.columns if i.startswith(\"SLV\")]].to_numpy()\n",
    "Z"
   ]
  },
  {
   "cell_type": "code",
   "execution_count": 14,
   "id": "d744426e-9d00-4f42-91a4-08b7ae7fb486",
   "metadata": {},
   "outputs": [
    {
     "data": {
      "text/plain": [
       "array([2.19246612e+03, 1.03953866e+02, 0.00000000e+00, 8.86311991e+01,\n",
       "       1.50125770e+03, 1.36559029e+03, 5.73779518e+02, 7.13640923e+02,\n",
       "       5.53728273e+02, 7.96361646e-03, 1.41474569e+03, 1.22577804e+03,\n",
       "       2.01280340e+02, 8.76999613e+01, 7.14647894e+02, 6.64728769e+01,\n",
       "       1.12914237e+02, 2.57164418e+02, 2.09881079e+02, 5.89412203e+02,\n",
       "       3.36116558e+02, 1.98539979e+02, 3.16402988e+01, 4.34497902e+02,\n",
       "       6.70704676e+01, 0.00000000e+00, 4.23638255e+01, 0.00000000e+00,\n",
       "       1.48729233e+01, 5.89621720e+00, 1.76260944e+00, 9.80952998e+00,\n",
       "       4.78705477e+02, 1.38618220e+03, 2.34133554e+03, 2.25102113e+03,\n",
       "       1.27078164e+03, 2.07360081e+03, 3.89259572e+03, 1.16930905e+04])"
      ]
     },
     "execution_count": 14,
     "metadata": {},
     "output_type": "execute_result"
    }
   ],
   "source": [
    "## Obtenemos el vector de producción total\n",
    "X = slv_io[\"Output\"].to_numpy()\n",
    "X"
   ]
  },
  {
   "cell_type": "code",
   "execution_count": 15,
   "id": "3fed0b73",
   "metadata": {},
   "outputs": [
    {
     "data": {
      "text/plain": [
       "array([[6.60055094e-02, 5.12217102e-05, 0.00000000e+00, ...,\n",
       "        1.13762201e-04, 2.40643762e-04, 6.68843888e-03],\n",
       "       [4.84645157e-04, 1.12081419e-04, 0.00000000e+00, ...,\n",
       "        0.00000000e+00, 0.00000000e+00, 9.31528259e-04],\n",
       "       [0.00000000e+00, 0.00000000e+00, 0.00000000e+00, ...,\n",
       "        0.00000000e+00, 0.00000000e+00, 0.00000000e+00],\n",
       "       ...,\n",
       "       [2.12790916e-02, 6.88423095e-03, 0.00000000e+00, ...,\n",
       "        1.13472740e-01, 7.47591843e-02, 2.08894690e-02],\n",
       "       [3.38261127e-03, 1.24331738e-02, 0.00000000e+00, ...,\n",
       "        6.46814681e-02, 4.91540032e-02, 7.46270571e-02],\n",
       "       [4.17153498e-02, 1.82473625e-02, 0.00000000e+00, ...,\n",
       "        3.13218699e-02, 1.82080067e-02, 5.64253241e-02]])"
      ]
     },
     "execution_count": 15,
     "metadata": {},
     "output_type": "execute_result"
    }
   ],
   "source": [
    "### Calculamos la matriz de coeficientes técnicos\n",
    "A = Z.dot(np.linalg.pinv(X*np.identity(40)))\n",
    "A"
   ]
  },
  {
   "cell_type": "code",
   "execution_count": null,
   "id": "51b38669-e512-4306-b835-097882a56808",
   "metadata": {},
   "outputs": [],
   "source": []
  },
  {
   "cell_type": "markdown",
   "id": "5b59f994",
   "metadata": {},
   "source": [
    "Las entradas de la matriz $A$ definen los coeficientes técnicos como la proporción de insumo ofrecido por el sector $i$ y comprado por el sector $j$ con respecto al producto total del sector $j$, $a_{ij}= \\dfrac{z_{ij}}{x_j}$ "
   ]
  },
  {
   "cell_type": "markdown",
   "id": "4624c06a",
   "metadata": {},
   "source": [
    "En términos matriciales, la producción se define como :\n",
    "\n",
    "$$\n",
    "X = (I-A)^{-1} \\cdot \\mathbf{f}= L \\cdot \\mathbf{f}\n",
    "$$\n",
    "\n",
    "Donde $\\mathbf{f}$ es el vector de demanda final, y $L=(I-A)^{-1}$ es una matriz conocida como la *inversa de Leontief* o matriz de requerimientos totales.\n",
    "\n",
    "Calculemos la matriz $L$:"
   ]
  },
  {
   "cell_type": "code",
   "execution_count": 16,
   "id": "684c4226",
   "metadata": {},
   "outputs": [
    {
     "data": {
      "text/plain": [
       "array([[1.08374735e+00, 8.78366048e-04, 0.00000000e+00, ...,\n",
       "        1.47994717e-03, 1.49420891e-03, 1.60550689e-02],\n",
       "       [9.97449165e-04, 1.00015443e+00, 0.00000000e+00, ...,\n",
       "        8.05202950e-05, 5.40812334e-05, 1.74545783e-03],\n",
       "       [0.00000000e+00, 0.00000000e+00, 1.00000000e+00, ...,\n",
       "        0.00000000e+00, 0.00000000e+00, 0.00000000e+00],\n",
       "       ...,\n",
       "       [3.16131987e-02, 1.11469224e-02, 0.00000000e+00, ...,\n",
       "        1.13756185e+00, 9.15029587e-02, 3.54997654e-02],\n",
       "       [1.85570356e-02, 1.90557414e-02, 0.00000000e+00, ...,\n",
       "        8.54852600e-02, 1.06308294e+00, 9.21589760e-02],\n",
       "       [6.28135847e-02, 2.35476579e-02, 0.00000000e+00, ...,\n",
       "        4.37415892e-02, 2.71893792e-02, 1.06982925e+00]])"
      ]
     },
     "execution_count": 16,
     "metadata": {},
     "output_type": "execute_result"
    }
   ],
   "source": [
    "L = np.linalg.inv(np.identity(40)-A)\n",
    "L\n"
   ]
  },
  {
   "cell_type": "markdown",
   "id": "67f240a8",
   "metadata": {},
   "source": [
    "Cada entrada $a_{ij}$ de la inversa de Leontief representa la cantidad de producción que debería realizar un sector $i$ para satisfacer una unidad de demanda final de un producto $j$."
   ]
  },
  {
   "cell_type": "markdown",
   "id": "01b23b5c-26ff-4c6a-8a1c-1566a409488d",
   "metadata": {},
   "source": [
    "## Impactos en el empleo\n",
    "\n",
    "Sea $\\mathscr{E}$ el empleo total y $E = [e_1,e_2,\\dots,e_n]$ un vector fila de los coeficientes de trabajo o razones empleo/producto(bruto) de cada sector, la expresión de empleo total sería:\n",
    "\n",
    "$$\n",
    "\\begin{equation}\n",
    "\\mathscr{E} = EX\n",
    "\\end{equation}\n",
    "$$\n",
    "\n",
    "Suponiendo una economía con dos sectores, el **impacto** (cambio directo más el indirecto) en el empleo por el incremento exógeno en la demanda final del sector 2 sería igual a \n",
    "\n",
    "$$\n",
    "\\Delta\\mathscr{E}_{d} = \n",
    "\\begin{bmatrix}\n",
    "    e_1 & e_2\\\\\n",
    "\\end{bmatrix}\n",
    "\\begin{bmatrix}\n",
    "    l_{11} & l_{12}\\\\\n",
    "    l_{12} & l_{22}\n",
    "\\end{bmatrix}\n",
    "\\begin{bmatrix}\n",
    "    \\Delta f_{1} \\\\\n",
    "    \\Delta f_{2} \n",
    "\\end{bmatrix}\n",
    "=\n",
    "E (\\mathbf{I} - \\mathbf{A})^{-1} \\Delta \\mathbf{f}\n",
    "= E \\Delta X\n",
    "$$\n",
    "\n",
    "El cambio directo en el empleo debido al incremento en la demanda es $\\Delta\\mathscr{E}_{d'}$\n",
    "\n",
    "$$\n",
    "\\Delta\\mathscr{E}_{d'} = \n",
    "\\begin{bmatrix}\n",
    "    e_1 & e_2\\\\\n",
    "\\end{bmatrix}\n",
    "\\begin{bmatrix}\n",
    "    \\Delta f_{1} \\\\\n",
    "    \\Delta f_{2} \n",
    "\\end{bmatrix}\n",
    "=\n",
    "E\\Delta \\mathbf{f}\n",
    "$$"
   ]
  },
  {
   "cell_type": "code",
   "execution_count": 17,
   "id": "41226a07-0c91-4245-905f-a002ced5fd0d",
   "metadata": {},
   "outputs": [
    {
     "data": {
      "text/plain": [
       "array([4.47168288e-01, 5.63130368e-02, 0.00000000e+00, 2.27259485e+00,\n",
       "       2.31675570e-01, 1.18777968e-01, 1.14824799e-01, 7.36699621e-02,\n",
       "       1.30473203e-01, 3.61982566e-04, 5.76576473e-02, 5.85516139e-02,\n",
       "       1.45213433e-02, 2.57184637e-02, 3.78120579e-02, 1.08527146e-02,\n",
       "       1.02000214e-01, 2.67045086e-02, 3.88740653e-02, 4.58972281e-02,\n",
       "       4.23961350e-02, 9.37836461e-02, 5.81623141e-02, 5.25708291e-02,\n",
       "       1.30487291e-02, 0.00000000e+00, 1.86214618e-02, 0.00000000e+00,\n",
       "       1.05220540e-03, 2.07613282e-02, 6.42116372e-04, 5.73321448e-03,\n",
       "       2.22684782e-02, 3.67395230e-01, 1.05020882e-01, 8.64115596e-02,\n",
       "       7.41845673e-01, 6.39723825e-02, 3.04687470e-02, 2.85879954e-02])"
      ]
     },
     "execution_count": 17,
     "metadata": {},
     "output_type": "execute_result"
    }
   ],
   "source": [
    "# Calculamos el vector de coeficientes de trabajo (La mano de obra directa empleada por unidad de producción)\n",
    "E = (X/empleo_slv[\"empleo\"]).fillna(0).to_numpy()\n",
    "E"
   ]
  },
  {
   "cell_type": "markdown",
   "id": "c07ee1cf-bd0f-4da6-86c8-cff076dca748",
   "metadata": {},
   "source": [
    "**¿Cuál sería el impacto de un nuevo proyecto que incrementa la demanda final interna de los sectores Farmaceutico, Textil y Construcción en 40%, mientras que el resto de los sectores se incrementan 2%?**\n",
    "\n",
    "El cambio en el empleo es igual al trabajo requerido por el cambio en la demanda final, esto es:\n",
    "\n",
    "$$\n",
    "\\begin{equation}\n",
    "E(I - A)^{-1}\\Delta F\n",
    "\\end{equation}\n",
    "$$\n",
    "\n",
    "Donde $\\Delta F$ es el incremento en la demanda final.\n"
   ]
  },
  {
   "cell_type": "code",
   "execution_count": 19,
   "id": "e257ab90-4325-4a73-9842-43a971838485",
   "metadata": {},
   "outputs": [
    {
     "data": {
      "text/plain": [
       "array([7.62339905e+02, 2.28559017e+01, 0.00000000e+00, 5.01981163e+00,\n",
       "       1.07307410e+03, 9.83410278e+02, 1.41940292e+02, 4.04688934e+02,\n",
       "       3.81213776e+02, 7.03628268e-03, 2.91339081e+02, 3.63986908e+02,\n",
       "       1.53356842e+02, 2.79853706e+01, 2.24869797e+02, 2.60457730e+00,\n",
       "       3.36344337e+01, 7.66030884e+01, 1.48640594e+02, 7.08913116e+01,\n",
       "       1.44425411e+01, 4.33313131e+00, 6.90548897e-01, 1.91415634e+01,\n",
       "       4.54573631e+00, 0.00000000e+00, 4.00159597e+00, 0.00000000e+00,\n",
       "       1.44060493e+00, 5.71112990e-01, 1.70727953e-01, 9.50160027e-01,\n",
       "       2.50637817e+02, 4.61681244e+02, 9.85751266e+01, 1.12880603e+03,\n",
       "       5.61463074e+02, 9.36218567e+02, 1.82198169e+03, 8.74245508e+03])"
      ]
     },
     "execution_count": 19,
     "metadata": {},
     "output_type": "execute_result"
    }
   ],
   "source": [
    "# Obtenemos el vector de consumo interno para El Salvador\n",
    "consumo_interno = slv_io[\"CONS_SLV\"].to_numpy()\n",
    "consumo_interno"
   ]
  },
  {
   "cell_type": "code",
   "execution_count": 20,
   "id": "593d98c5-6d45-4930-9412-632b4ec43a3c",
   "metadata": {},
   "outputs": [
    {
     "data": {
      "text/plain": [
       "array([0.02, 0.02, 0.02, 0.02, 0.02, 0.02, 0.02, 0.02, 0.02, 0.02, 0.4 ,\n",
       "       0.02, 0.02, 0.02, 0.02, 0.02, 0.02, 0.02, 0.4 , 0.02, 0.02, 0.02,\n",
       "       0.02, 0.02, 0.02, 0.02, 0.02, 0.02, 0.02, 0.02, 0.02, 0.02, 0.02,\n",
       "       0.02, 0.4 , 0.02, 0.02, 0.02, 0.02, 0.02])"
      ]
     },
     "execution_count": 20,
     "metadata": {},
     "output_type": "execute_result"
    }
   ],
   "source": [
    "# Definimos el vector de crecimiento de los sectores. Todos los sectores crecen al 2%\n",
    "crecimiento_sectores = np.array([0.02]*40)\n",
    "\n",
    "# El sector farmaceutico, textil y construcción tienen índices 18, 10 y 34\n",
    "crecimiento_sectores[18] = 0.40\n",
    "crecimiento_sectores[10] = 0.40\n",
    "crecimiento_sectores[34] = 0.40\n",
    "\n",
    "crecimiento_sectores"
   ]
  },
  {
   "cell_type": "code",
   "execution_count": 21,
   "id": "7601cb6b-cbe5-4cbb-bb4d-f022bc965d8f",
   "metadata": {},
   "outputs": [
    {
     "data": {
      "text/plain": [
       "array([1.52467981e+01, 4.57118034e-01, 0.00000000e+00, 1.00396233e-01,\n",
       "       2.14614819e+01, 1.96682056e+01, 2.83880585e+00, 8.09377869e+00,\n",
       "       7.62427551e+00, 1.40725654e-04, 1.16535632e+02, 7.27973816e+00,\n",
       "       3.06713684e+00, 5.59707413e-01, 4.49739594e+00, 5.20915461e-02,\n",
       "       6.72688675e-01, 1.53206177e+00, 5.94562378e+01, 1.41782623e+00,\n",
       "       2.88850822e-01, 8.66626263e-02, 1.38109779e-02, 3.82831268e-01,\n",
       "       9.09147263e-02, 0.00000000e+00, 8.00319195e-02, 0.00000000e+00,\n",
       "       2.88120985e-02, 1.14222598e-02, 3.41455907e-03, 1.90032005e-02,\n",
       "       5.01275635e+00, 9.23362488e+00, 3.94300507e+01, 2.25761206e+01,\n",
       "       1.12292615e+01, 1.87243713e+01, 3.64396338e+01, 1.74849102e+02])"
      ]
     },
     "execution_count": 21,
     "metadata": {},
     "output_type": "execute_result"
    }
   ],
   "source": [
    "# Definimos el vector de crecimiento de la demanda del sector \n",
    "delta_f = consumo_interno * crecimiento_sectores\n",
    "delta_f\n"
   ]
  },
  {
   "cell_type": "code",
   "execution_count": 22,
   "id": "48de9114-4c42-4476-be87-63b27f99c973",
   "metadata": {},
   "outputs": [
    {
     "data": {
      "text/plain": [
       "90.42947575572273"
      ]
     },
     "execution_count": 22,
     "metadata": {},
     "output_type": "execute_result"
    }
   ],
   "source": [
    "delta_empleo = E.dot(L@delta_f)\n",
    "delta_empleo"
   ]
  },
  {
   "cell_type": "code",
   "execution_count": 23,
   "id": "3db7a8a1-7cb2-4b91-b063-a9f97649f695",
   "metadata": {},
   "outputs": [
    {
     "data": {
      "text/plain": [
       "4676.263141422078"
      ]
     },
     "execution_count": 23,
     "metadata": {},
     "output_type": "execute_result"
    }
   ],
   "source": [
    "# Para comparar el incremento en empleo, calculamos los requerimientos de empleo actuales\n",
    "empleo_necesario = E @ X\n",
    "empleo_necesario"
   ]
  },
  {
   "cell_type": "code",
   "execution_count": 26,
   "id": "6f57d660-1709-48a7-b688-86201cf57be4",
   "metadata": {},
   "outputs": [
    {
     "data": {
      "text/plain": [
       "1.933797842869523"
      ]
     },
     "execution_count": 26,
     "metadata": {},
     "output_type": "execute_result"
    }
   ],
   "source": [
    "(delta_empleo/empleo_necesario)*100"
   ]
  },
  {
   "cell_type": "markdown",
   "id": "cddd66c1-e04e-4655-8b2f-ae2e0dcbacf7",
   "metadata": {},
   "source": [
    "El empleo de El Salvador se incrementaría **1.93%** como consecuencia de un nuevo proyecto que incrementa la demanda final interna de los sectores Farmaceutico, Textil y Construcción en 40%, mientras que el resto de los sectores se incrementan 2%."
   ]
  }
 ],
 "metadata": {
  "kernelspec": {
   "display_name": "Python 3 (ipykernel)",
   "language": "python",
   "name": "python3"
  },
  "language_info": {
   "codemirror_mode": {
    "name": "ipython",
    "version": 3
   },
   "file_extension": ".py",
   "mimetype": "text/x-python",
   "name": "python",
   "nbconvert_exporter": "python",
   "pygments_lexer": "ipython3",
   "version": "3.11.8"
  }
 },
 "nbformat": 4,
 "nbformat_minor": 5
}
